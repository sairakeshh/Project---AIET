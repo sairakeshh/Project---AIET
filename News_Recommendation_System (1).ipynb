{
  "nbformat": 4,
  "nbformat_minor": 0,
  "metadata": {
    "colab": {
      "provenance": [],
      "gpuType": "T4"
    },
    "kernelspec": {
      "name": "python3",
      "display_name": "Python 3"
    },
    "language_info": {
      "name": "python"
    },
    "accelerator": "GPU"
  },
  "cells": [
    {
      "cell_type": "code",
      "execution_count": null,
      "metadata": {
        "colab": {
          "base_uri": "https://localhost:8080/"
        },
        "id": "MYYTePSgNi0j",
        "outputId": "7ac7bb6f-fd34-4fcd-97fe-fe38e3179dc0"
      },
      "outputs": [
        {
          "output_type": "stream",
          "name": "stdout",
          "text": [
            "Requirement already satisfied: transformers in /usr/local/lib/python3.10/dist-packages (4.30.2)\n",
            "Requirement already satisfied: filelock in /usr/local/lib/python3.10/dist-packages (from transformers) (3.12.2)\n",
            "Requirement already satisfied: huggingface-hub<1.0,>=0.14.1 in /usr/local/lib/python3.10/dist-packages (from transformers) (0.16.4)\n",
            "Requirement already satisfied: numpy>=1.17 in /usr/local/lib/python3.10/dist-packages (from transformers) (1.22.4)\n",
            "Requirement already satisfied: packaging>=20.0 in /usr/local/lib/python3.10/dist-packages (from transformers) (23.1)\n",
            "Requirement already satisfied: pyyaml>=5.1 in /usr/local/lib/python3.10/dist-packages (from transformers) (6.0)\n",
            "Requirement already satisfied: regex!=2019.12.17 in /usr/local/lib/python3.10/dist-packages (from transformers) (2022.10.31)\n",
            "Requirement already satisfied: requests in /usr/local/lib/python3.10/dist-packages (from transformers) (2.27.1)\n",
            "Requirement already satisfied: tokenizers!=0.11.3,<0.14,>=0.11.1 in /usr/local/lib/python3.10/dist-packages (from transformers) (0.13.3)\n",
            "Requirement already satisfied: safetensors>=0.3.1 in /usr/local/lib/python3.10/dist-packages (from transformers) (0.3.1)\n",
            "Requirement already satisfied: tqdm>=4.27 in /usr/local/lib/python3.10/dist-packages (from transformers) (4.65.0)\n",
            "Requirement already satisfied: fsspec in /usr/local/lib/python3.10/dist-packages (from huggingface-hub<1.0,>=0.14.1->transformers) (2023.6.0)\n",
            "Requirement already satisfied: typing-extensions>=3.7.4.3 in /usr/local/lib/python3.10/dist-packages (from huggingface-hub<1.0,>=0.14.1->transformers) (4.7.1)\n",
            "Requirement already satisfied: urllib3<1.27,>=1.21.1 in /usr/local/lib/python3.10/dist-packages (from requests->transformers) (1.26.16)\n",
            "Requirement already satisfied: certifi>=2017.4.17 in /usr/local/lib/python3.10/dist-packages (from requests->transformers) (2023.5.7)\n",
            "Requirement already satisfied: charset-normalizer~=2.0.0 in /usr/local/lib/python3.10/dist-packages (from requests->transformers) (2.0.12)\n",
            "Requirement already satisfied: idna<4,>=2.5 in /usr/local/lib/python3.10/dist-packages (from requests->transformers) (3.4)\n"
          ]
        }
      ],
      "source": [
        "!pip install -q gradio\n",
        "!pip install transformers"
      ]
    },
    {
      "cell_type": "code",
      "source": [
        "import pandas as pd\n",
        "import pickle\n",
        "import numpy as np\n",
        "import torch\n",
        "from transformers import BertTokenizer, BertModel\n",
        "from sklearn.cluster import KMeans\n",
        "\n",
        "import pickle\n",
        "\n",
        "with open(\"name.pkl\", 'rb') as file:\n",
        "    model_news = pickle.load(file)\n",
        "\n",
        "    print(type(model_news))\n",
        "with open(\"ad.pkl\",'rb') as file:\n",
        "  model_ad = pickle.load(file)\n",
        "\n",
        "  print(type(model_ad))"
      ],
      "metadata": {
        "colab": {
          "base_uri": "https://localhost:8080/"
        },
        "id": "BV9pyDawOsBk",
        "outputId": "ca81b747-3f78-4a80-8ec9-69ffff8f6c86"
      },
      "execution_count": null,
      "outputs": [
        {
          "output_type": "stream",
          "name": "stdout",
          "text": [
            "<class 'sklearn.cluster._kmeans.KMeans'>\n",
            "<class 'sklearn.cluster._kmeans.KMeans'>\n"
          ]
        },
        {
          "output_type": "stream",
          "name": "stderr",
          "text": [
            "/usr/local/lib/python3.10/dist-packages/sklearn/base.py:318: UserWarning: Trying to unpickle estimator KMeans from version 1.0.2 when using version 1.2.2. This might lead to breaking code or invalid results. Use at your own risk. For more info please refer to:\n",
            "https://scikit-learn.org/stable/model_persistence.html#security-maintainability-limitations\n",
            "  warnings.warn(\n"
          ]
        }
      ]
    },
    {
      "cell_type": "code",
      "source": [
        "Title = \"‘Just so needy.’ Brexit strained the UK-US relationship – but officials say it’s now back on track\"\n",
        "Description = '''When US President Joe Biden lands in London next week, his British counterpart, Prime Minister Rishi Sunak, might summon a smile at how much US-UK relations have improved since he came to office in October of last year.\n",
        "\n",
        "Once described as the “special relationship,” it’s no secret in London or Washington, DC that the friendship between these two old allies has been under strain in recent years.\n",
        "\n",
        "People on both sides of the Atlantic point to multiple events in modern history: failures in Iraq; the Obama administration’s perceived preference for other European allies; differing economic paths; the turbulence of the Trump administration.\n",
        "\n",
        "However, one event in British political history stands above all others when it comes to relations with the rest of the world: Brexit.\n",
        "\n",
        "CNN spoke with multiple British and US officials, who were not permitted to speak on the record, to understand how the relationship between these two partners has evolved in the aftermath of the United Kingdom’s 2016 decision to leave the European Union.\n",
        "\n",
        "“The UK’s standing in the world has long been defined by its closeness to America,” a US administration official told CNN. “After Brexit, under Boris (Johnson) and (Liz) Truss, the UK was just so needy. Time is the most precious commodity in the White House and we just didn’t have time to hold their hands.”\n",
        "\n",
        "\n",
        "The United States had a keen interest in Brexit, particularly the impact it would have on Northern Ireland.\n",
        "\n",
        "Earlier this year, world leaders traveled to Belfast to celebrate the 25th anniversary of the Good Friday/Belfast Agreement. The peace deal, which former US President Bill Clinton helped to broker, largely brought an end to decades of sectarian violence in the province.\n",
        "\n",
        "US President Joe Biden delivers remarks marking the 25th anniversary of the Good Friday Agreement at Ulster University in Belfast, Northern Ireland, on April 12.\n",
        "US President Joe Biden delivers remarks marking the 25th anniversary of the Good Friday Agreement at Ulster University in Belfast, Northern Ireland, on April 12.\n",
        "Clodagh Kilcoyne/Reuters\n",
        "Brexit, many feared, would disrupt the delicate balance in Northern Ireland due to its unique position as the only part of the United Kingdom sharing a land border with the EU.\n",
        "\n",
        "Reaching a practical version of Brexit for Northern Ireland was a priority of then-Prime Minister Theresa May’s government. She negotiated a deal that would have solved lots of practical problems, but failed to get her plan through the UK parliament. Johnson, her successor, agreed something called the Northern Ireland Protocol, which, it turned out, was insufficient and risked falling apart by the end of his premiership, with London and Brussels unable to agree on how to implement it.\n",
        "\n",
        "Finding a way through on Northern Ireland was a key international priority for the Biden administration. So, when Sunak promised to have the issue resolved by the 25th anniversary of the Good Friday Agreement, the fact he managed to reach a new deal with the EU, known as the Windsor Framework, instilled a new sense of trust in the British – something that had been absent for a few years in Washington.\n",
        "\n",
        "“What matters to this administration is that you can shake on something and it will get done. Through Windsor, Sunak showed us he was someone we could do business with,” a senior US diplomat told CNN.\n",
        "\n",
        "This is what the US wants from the UK – and other allies – in 2023. “We are looking for practical wins. Where we are globally with Ukraine and the economy, this is not a time for grand pronouncements but pragmatism and getting the job done - real roll-your-sleeves-up politics,” the administration official said.\n",
        "\n",
        "Multiple US officials echoed this sentiment, making comparisons between small but practical achievements versus grand ambitions like a free trade deal – a priority of both Truss and Johnson – that was never likely to happen.\n",
        "\n",
        "Rather than romantic ideas of a “special relationship” steeped in early-20th-century history, the US-UK partnership is far more transactional.\n",
        "\n",
        "UK Prime Minister Rishi Sunak meets with President Joe Biden in the Oval Office at the White House in Washington, DC on June 8, 2023.\n",
        "UK Prime Minister Rishi Sunak meets with President Joe Biden in the Oval Office at the White House in Washington, DC on June 8, 2023.\n",
        "Evelyn Hockstein/Reuters\n",
        "Both US and UK officials understand that Washington is the senior partner, but that America’s strength around the world is partly its network of allies who share its goals and are willing to put in the hard yards to achieve them. “That’s what makes us different from Russia and China,” the diplomat said.\n",
        "\n",
        "“The US knows that it cannot look like the policeman of the world any more,” a British government official told CNN. “That is partly why on things like Ukraine you have seen us praise their heavy-lifting, while they have credited us for leading the pack in terms of the international response.”\n",
        "\n",
        "The real-world benefits of acting like the reliable partner America wants are already taking shape. US officials point to the carve-outs in Biden’s Inflation Reduction Act on critical minerals. They also point to the recent US-UK deal on artificial intelligence, which lists the UK as a domestic source for defense equipment.\n",
        "\n",
        "“These are not carve-outs we would likely give to any other non-EU country,” the US administration official says.\n",
        "\n",
        "Others said that the sequencing of Biden’s visit to the UK next week – ahead of other European partners – will have been carefully considered. While the president’s travel plans are of little concern to Americans, in Europe they are seen as some kind of indication as to of where allies sit in the pecking order. US officials deny that this is true, but that they say they are aware of its significance in Europe.\n",
        "\n",
        "The thawing in relations has been evident behind closed doors in the relationship between Secretary of State Antony Blinken and UK Foreign Secretary James Cleverly. Not only do both men speak warmly of one another and share many world views, but officials working for the pair say that life has become significantly easier over the past 12 months.\n",
        "\n",
        "UK Foreign Secretary James Cleverly, left, and US Secretary of State Antony Blinken hold a press conference on June 20 in London.\n",
        "UK Foreign Secretary James Cleverly, left, and US Secretary of State Antony Blinken hold a press conference on June 20 in London.\n",
        "Leon Neal/Pool/Retuers\n",
        "“The Americans could easily come over and remind us how much money they are spending in Ukraine and how junior a partner we are,” a second British official told CNN. “But they don’t. They are gracious and cooperate with us in a way that is refreshing.”\n",
        "\n",
        "Interestingly, officials on both sides talked of the desire to reframe the special relationship as an agreement between partners “of first resort” – something Blinken has even called the UK on the record. And rather than cling onto the special relationship, the British are very happy with this new accolade. It is, officials say, a new, mature approach to an old friendship that needed a jump-start.\n",
        "\n",
        "There are lessons to be learnt from Sunak’s success in resetting the US relationship. On the US side, officials described the inherent distrust of Johnson and despair at Truss. They found the way both went about politics inherently unreliable. And while the assessment of Truss came from her short period in office, the view of Johnson was built over his many years as a public figure.\n",
        "\n",
        "This is the point that UK officials now seem to understand. People involved in negotiating the Windsor Framework say that specific efforts were taken to prevent leaks against the EU or involve the US until the deal was done. The negotiation might have been with Brussels, but they were aware that US officials watch absolutely everything.\n",
        "\n",
        "This also seems to have been taken on board by the UK’s opposition Labour Party, who are favorites to win the next general election. US diplomats told CNN that they had noticed Labour politicians hitting key talking points for the US around inflation and foreign affairs.\n",
        "\n",
        "Sunak might be struggling at home – economic difficulties, low poll ratings, a growing migrant crisis, among many other things. But after years of Britain looking to the outside world like a bit of a basket case, he has done something that May, Johnson and Truss all failed to do: assure the UK’s most important ally that it is still a serious country.  \"'''\n",
        "\n",
        "\n",
        "dic1 = {\"Title\":Title, \"Description\":Description}\n",
        "\n",
        "import pandas as pd\n",
        "df1 = pd.DataFrame(dic1, index=[1])"
      ],
      "metadata": {
        "id": "q7PXNyG9PeY8"
      },
      "execution_count": null,
      "outputs": []
    },
    {
      "cell_type": "code",
      "source": [
        "\n",
        "# Assuming you have a DataFrame `df1` with columns \"Title\" and \"Description\"\n",
        "text_data1 = df1[\"Title\"] + \" \" + df1[\"Description\"]\n",
        "tokenizer = BertTokenizer.from_pretrained('bert-base-uncased')\n",
        "model = BertModel.from_pretrained('bert-base-uncased')\n",
        "\n",
        "# Tokenize the text data\n",
        "encoded_inputs = tokenizer(text_data1.tolist(), padding=True, truncation=True, return_tensors='pt')\n",
        "\n",
        "# Pass the encoded inputs through the BERT model\n",
        "with torch.no_grad():\n",
        "    outputs = model(**encoded_inputs)\n",
        "    new_embeddings = outputs.last_hidden_state[:, 0, :].numpy()\n",
        "\n",
        "new_cluster_labels = model_news.predict(new_embeddings)\n",
        "ad_cluster_labels = model_ad.predict(new_embeddings)\n",
        "df1[\"Cluster\"] = new_cluster_labels\n",
        "df1[\"adcluster\"] = ad_cluster_labels\n",
        "\n",
        "print(df1)\n",
        "df1.to_csv(\"cluster2.csv\")"
      ],
      "metadata": {
        "colab": {
          "base_uri": "https://localhost:8080/"
        },
        "id": "df_abpWYOr-w",
        "outputId": "b1d7be58-a51f-4cd2-c185-0ad06e5e9de5"
      },
      "execution_count": null,
      "outputs": [
        {
          "output_type": "stream",
          "name": "stderr",
          "text": [
            "Some weights of the model checkpoint at bert-base-uncased were not used when initializing BertModel: ['cls.seq_relationship.weight', 'cls.predictions.transform.dense.bias', 'cls.predictions.transform.LayerNorm.weight', 'cls.predictions.transform.dense.weight', 'cls.seq_relationship.bias', 'cls.predictions.bias', 'cls.predictions.transform.LayerNorm.bias']\n",
            "- This IS expected if you are initializing BertModel from the checkpoint of a model trained on another task or with another architecture (e.g. initializing a BertForSequenceClassification model from a BertForPreTraining model).\n",
            "- This IS NOT expected if you are initializing BertModel from the checkpoint of a model that you expect to be exactly identical (initializing a BertForSequenceClassification model from a BertForSequenceClassification model).\n"
          ]
        },
        {
          "output_type": "stream",
          "name": "stdout",
          "text": [
            "                                               Title  \\\n",
            "1  ‘Just so needy.’ Brexit strained the UK-US rel...   \n",
            "\n",
            "                                         Description  Cluster  adcluster  \n",
            "1  When US President Joe Biden lands in London ne...        8          2  \n"
          ]
        }
      ]
    },
    {
      "cell_type": "code",
      "source": [
        "str(new_cluster_labels[0])"
      ],
      "metadata": {
        "colab": {
          "base_uri": "https://localhost:8080/",
          "height": 35
        },
        "id": "zjbqDXUpQX_s",
        "outputId": "cc9952aa-a2c1-4783-9c58-a57c2ad4884c"
      },
      "execution_count": null,
      "outputs": [
        {
          "output_type": "execute_result",
          "data": {
            "text/plain": [
              "'8'"
            ],
            "application/vnd.google.colaboratory.intrinsic+json": {
              "type": "string"
            }
          },
          "metadata": {},
          "execution_count": 5
        }
      ]
    },
    {
      "cell_type": "code",
      "source": [
        "import torch\n",
        "from transformers import BertTokenizer, BertModel\n",
        "from sklearn.cluster import KMeans\n",
        "import numpy as np\n",
        "import pickle\n",
        "\n",
        "# Load the clustering model from the name.pkl file\n",
        "with open(\"name.pkl\", 'rb') as file:\n",
        "    clustering_model = pickle.load(file)\n",
        "\n",
        "# Load the BERT model and tokenizer\n",
        "tokenizer = BertTokenizer.from_pretrained('bert-base-uncased')\n",
        "model = BertModel.from_pretrained('bert-base-uncased')\n"
      ],
      "metadata": {
        "colab": {
          "base_uri": "https://localhost:8080/"
        },
        "id": "tIEADRkyOZhy",
        "outputId": "c98d3614-c6ac-4afd-c63b-cb7fbbdbe87e"
      },
      "execution_count": null,
      "outputs": [
        {
          "output_type": "stream",
          "name": "stderr",
          "text": [
            "/usr/local/lib/python3.10/dist-packages/sklearn/base.py:318: UserWarning: Trying to unpickle estimator KMeans from version 1.0.2 when using version 1.2.2. This might lead to breaking code or invalid results. Use at your own risk. For more info please refer to:\n",
            "https://scikit-learn.org/stable/model_persistence.html#security-maintainability-limitations\n",
            "  warnings.warn(\n",
            "Some weights of the model checkpoint at bert-base-uncased were not used when initializing BertModel: ['cls.seq_relationship.weight', 'cls.predictions.transform.dense.bias', 'cls.predictions.transform.LayerNorm.weight', 'cls.predictions.transform.dense.weight', 'cls.seq_relationship.bias', 'cls.predictions.bias', 'cls.predictions.transform.LayerNorm.bias']\n",
            "- This IS expected if you are initializing BertModel from the checkpoint of a model trained on another task or with another architecture (e.g. initializing a BertForSequenceClassification model from a BertForPreTraining model).\n",
            "- This IS NOT expected if you are initializing BertModel from the checkpoint of a model that you expect to be exactly identical (initializing a BertForSequenceClassification model from a BertForSequenceClassification model).\n"
          ]
        }
      ]
    },
    {
      "cell_type": "code",
      "source": [
        "import gradio as gr\n",
        "\n",
        "def greet(title, disc):\n",
        "    text_data1 = title + \" \" + disc\n",
        "\n",
        "    # Tokenize the text data\n",
        "    encoded_inputs = tokenizer([text_data1], padding=True, truncation=True, return_tensors='pt')\n",
        "\n",
        "    # Pass the encoded inputs through the BERT model\n",
        "    with torch.no_grad():\n",
        "        outputs = model(**encoded_inputs)\n",
        "        new_embeddings = outputs.last_hidden_state[:, 0, :].numpy()\n",
        "\n",
        "    # Use the loaded clustering model\n",
        "    new_cluster_labels = clustering_model.predict(new_embeddings)\n",
        "    return str(new_cluster_labels[0])\n",
        "\n",
        "inputs = [\"text\", \"text\"]\n",
        "outputs = \"text\"\n",
        "gr.Interface(fn=greet, inputs=inputs, outputs=outputs).launch(share=True)\n"
      ],
      "metadata": {
        "colab": {
          "base_uri": "https://localhost:8080/",
          "height": 610
        },
        "id": "SkeyT56Jmqjq",
        "outputId": "b5e613e7-989c-4059-b653-f2b5bb2cf169"
      },
      "execution_count": null,
      "outputs": [
        {
          "output_type": "stream",
          "name": "stdout",
          "text": [
            "Colab notebook detected. To show errors in colab notebook, set debug=True in launch()\n",
            "Running on public URL: https://d8995325f7ab800143.gradio.live\n",
            "\n",
            "This share link expires in 72 hours. For free permanent hosting and GPU upgrades, run `gradio deploy` from Terminal to deploy to Spaces (https://huggingface.co/spaces)\n"
          ]
        },
        {
          "output_type": "display_data",
          "data": {
            "text/plain": [
              "<IPython.core.display.HTML object>"
            ],
            "text/html": [
              "<div><iframe src=\"https://d8995325f7ab800143.gradio.live\" width=\"100%\" height=\"500\" allow=\"autoplay; camera; microphone; clipboard-read; clipboard-write;\" frameborder=\"0\" allowfullscreen></iframe></div>"
            ]
          },
          "metadata": {}
        },
        {
          "output_type": "execute_result",
          "data": {
            "text/plain": []
          },
          "metadata": {},
          "execution_count": 7
        }
      ]
    },
    {
      "cell_type": "code",
      "source": [
        "!pip uninstall gradio\n",
        "!pip install gradio\n",
        "\n",
        "\n",
        "import gradio as gr\n",
        "import torch\n",
        "from transformers import BertTokenizer, BertModel\n",
        "import numpy as np\n",
        "import pandas as pd\n",
        "import pickle\n",
        "\n",
        "# Load the clustering model from the \"name.pkl\" file\n",
        "with open(\"name.pkl\", 'rb') as file:\n",
        "    clustering_model = pickle.load(file)\n",
        "\n",
        "with open(\"ad.pkl\",'rb') as file:\n",
        "  clustering_model = pickle.load(file)\n",
        "\n",
        "# Load the BERT model and tokenizer\n",
        "tokenizer = BertTokenizer.from_pretrained('bert-base-uncased')\n",
        "model = BertModel.from_pretrained('bert-base-uncased')\n",
        "\n",
        "# Load the news data (assuming you have a DataFrame named \"news_data\" with columns \"Title\" and \"Cluster\")\n",
        "news_data = pd.read_csv(\"allnewscluster.csv\")\n",
        "ads_data = pd.read_csv(\"allads.csv\")\n",
        "\n",
        "def greet(title, disc):\n",
        "    text_data1 = title + \" \" + disc\n",
        "\n",
        "    # Tokenize the text data\n",
        "    encoded_inputs = tokenizer.encode_plus(text_data1, padding='longest', truncation=True, max_length=512, return_tensors='pt')\n",
        "\n",
        "    # Pass the encoded inputs through the BERT model\n",
        "    with torch.no_grad():\n",
        "        outputs = model(**encoded_inputs)\n",
        "        new_embeddings = outputs.last_hidden_state[:, 0, :].numpy()\n",
        "\n",
        "    # Use the loaded clustering model\n",
        "    new_cluster_labels = clustering_model.predict(new_embeddings)[0]\n",
        "    ad_cluster_labels = clustering_model.predict(new_embeddings)[0]\n",
        "    # Filter news articles based on the predicted cluster\n",
        "    cluster_articles = news_data[news_data[\"Cluster\"] == new_cluster_labels]\n",
        "    cluster_adarticles = ads_data[ads_data[\"Cluster\"] == ad_cluster_labels]\n",
        "    # Get the titles of 5 articles from the filtered set\n",
        "    article_titles = cluster_articles[\"Title\"].head(5).tolist()\n",
        "    ad_titles = cluster_adarticles[\"Title\"].head(2).tolist()\n",
        "\n",
        "    return str(new_cluster_labels), article_titles[0], article_titles[1], article_titles[2], article_titles[3], article_titles[4], ad_titles[0],ad_titles[1]\n",
        "\n",
        "iface = gr.Interface(\n",
        "    fn=greet,\n",
        "    inputs=[\"text\", \"text\"],\n",
        "    outputs=[\n",
        "        \"text\",\n",
        "        \"text\",\n",
        "        \"text\",\n",
        "        \"text\",\n",
        "        \"text\",\n",
        "        \"text\",\n",
        "        \"text\",\n",
        "        \"text\"\n",
        "    ]\n",
        ")\n",
        "\n",
        "iface.launch()\n"
      ],
      "metadata": {
        "colab": {
          "base_uri": "https://localhost:8080/",
          "height": 1000
        },
        "id": "wnh21nujA77J",
        "outputId": "6d79fec0-7197-4a01-a0ce-be6a444b018c"
      },
      "execution_count": null,
      "outputs": [
        {
          "output_type": "stream",
          "name": "stdout",
          "text": [
            "Found existing installation: gradio 3.36.1\n",
            "Uninstalling gradio-3.36.1:\n",
            "  Would remove:\n",
            "    /usr/local/bin/gradio\n",
            "    /usr/local/bin/upload_theme\n",
            "    /usr/local/lib/python3.10/dist-packages/gradio-3.36.1.dist-info/*\n",
            "    /usr/local/lib/python3.10/dist-packages/gradio/*\n",
            "  Would not remove (might be manually added):\n",
            "    /usr/local/lib/python3.10/dist-packages/gradio/frpc_linux_amd64_v0.2\n",
            "    /usr/local/lib/python3.10/dist-packages/gradio/launches.json\n",
            "Proceed (Y/n)? Y\n",
            "  Successfully uninstalled gradio-3.36.1\n",
            "Collecting gradio\n",
            "  Using cached gradio-3.36.1-py3-none-any.whl (19.8 MB)\n",
            "Requirement already satisfied: aiofiles in /usr/local/lib/python3.10/dist-packages (from gradio) (23.1.0)\n",
            "Requirement already satisfied: aiohttp in /usr/local/lib/python3.10/dist-packages (from gradio) (3.8.4)\n",
            "Requirement already satisfied: altair>=4.2.0 in /usr/local/lib/python3.10/dist-packages (from gradio) (4.2.2)\n",
            "Requirement already satisfied: fastapi in /usr/local/lib/python3.10/dist-packages (from gradio) (0.100.0)\n",
            "Requirement already satisfied: ffmpy in /usr/local/lib/python3.10/dist-packages (from gradio) (0.3.0)\n",
            "Requirement already satisfied: gradio-client>=0.2.7 in /usr/local/lib/python3.10/dist-packages (from gradio) (0.2.9)\n",
            "Requirement already satisfied: httpx in /usr/local/lib/python3.10/dist-packages (from gradio) (0.24.1)\n",
            "Requirement already satisfied: huggingface-hub>=0.14.0 in /usr/local/lib/python3.10/dist-packages (from gradio) (0.16.4)\n",
            "Requirement already satisfied: jinja2 in /usr/local/lib/python3.10/dist-packages (from gradio) (3.1.2)\n",
            "Requirement already satisfied: markdown-it-py[linkify]>=2.0.0 in /usr/local/lib/python3.10/dist-packages (from gradio) (2.2.0)\n",
            "Requirement already satisfied: markupsafe in /usr/local/lib/python3.10/dist-packages (from gradio) (2.1.3)\n",
            "Requirement already satisfied: matplotlib in /usr/local/lib/python3.10/dist-packages (from gradio) (3.7.1)\n",
            "Requirement already satisfied: mdit-py-plugins<=0.3.3 in /usr/local/lib/python3.10/dist-packages (from gradio) (0.3.3)\n",
            "Requirement already satisfied: numpy in /usr/local/lib/python3.10/dist-packages (from gradio) (1.22.4)\n",
            "Requirement already satisfied: orjson in /usr/local/lib/python3.10/dist-packages (from gradio) (3.9.2)\n",
            "Requirement already satisfied: pandas in /usr/local/lib/python3.10/dist-packages (from gradio) (1.5.3)\n",
            "Requirement already satisfied: pillow in /usr/local/lib/python3.10/dist-packages (from gradio) (8.4.0)\n",
            "Requirement already satisfied: pydantic in /usr/local/lib/python3.10/dist-packages (from gradio) (1.10.11)\n",
            "Requirement already satisfied: pydub in /usr/local/lib/python3.10/dist-packages (from gradio) (0.25.1)\n",
            "Requirement already satisfied: pygments>=2.12.0 in /usr/local/lib/python3.10/dist-packages (from gradio) (2.14.0)\n",
            "Requirement already satisfied: python-multipart in /usr/local/lib/python3.10/dist-packages (from gradio) (0.0.6)\n",
            "Requirement already satisfied: pyyaml in /usr/local/lib/python3.10/dist-packages (from gradio) (6.0)\n",
            "Requirement already satisfied: requests in /usr/local/lib/python3.10/dist-packages (from gradio) (2.27.1)\n",
            "Requirement already satisfied: semantic-version in /usr/local/lib/python3.10/dist-packages (from gradio) (2.10.0)\n",
            "Requirement already satisfied: uvicorn>=0.14.0 in /usr/local/lib/python3.10/dist-packages (from gradio) (0.22.0)\n",
            "Requirement already satisfied: websockets>=10.0 in /usr/local/lib/python3.10/dist-packages (from gradio) (11.0.3)\n",
            "Requirement already satisfied: entrypoints in /usr/local/lib/python3.10/dist-packages (from altair>=4.2.0->gradio) (0.4)\n",
            "Requirement already satisfied: jsonschema>=3.0 in /usr/local/lib/python3.10/dist-packages (from altair>=4.2.0->gradio) (4.3.3)\n",
            "Requirement already satisfied: toolz in /usr/local/lib/python3.10/dist-packages (from altair>=4.2.0->gradio) (0.12.0)\n",
            "Requirement already satisfied: fsspec in /usr/local/lib/python3.10/dist-packages (from gradio-client>=0.2.7->gradio) (2023.6.0)\n",
            "Requirement already satisfied: packaging in /usr/local/lib/python3.10/dist-packages (from gradio-client>=0.2.7->gradio) (23.1)\n",
            "Requirement already satisfied: typing-extensions in /usr/local/lib/python3.10/dist-packages (from gradio-client>=0.2.7->gradio) (4.7.1)\n",
            "Requirement already satisfied: filelock in /usr/local/lib/python3.10/dist-packages (from huggingface-hub>=0.14.0->gradio) (3.12.2)\n",
            "Requirement already satisfied: tqdm>=4.42.1 in /usr/local/lib/python3.10/dist-packages (from huggingface-hub>=0.14.0->gradio) (4.65.0)\n",
            "Requirement already satisfied: mdurl~=0.1 in /usr/local/lib/python3.10/dist-packages (from markdown-it-py[linkify]>=2.0.0->gradio) (0.1.2)\n",
            "Requirement already satisfied: linkify-it-py<3,>=1 in /usr/local/lib/python3.10/dist-packages (from markdown-it-py[linkify]>=2.0.0->gradio) (2.0.2)\n",
            "Requirement already satisfied: python-dateutil>=2.8.1 in /usr/local/lib/python3.10/dist-packages (from pandas->gradio) (2.8.2)\n",
            "Requirement already satisfied: pytz>=2020.1 in /usr/local/lib/python3.10/dist-packages (from pandas->gradio) (2022.7.1)\n",
            "Requirement already satisfied: click>=7.0 in /usr/local/lib/python3.10/dist-packages (from uvicorn>=0.14.0->gradio) (8.1.4)\n",
            "Requirement already satisfied: h11>=0.8 in /usr/local/lib/python3.10/dist-packages (from uvicorn>=0.14.0->gradio) (0.14.0)\n",
            "Requirement already satisfied: attrs>=17.3.0 in /usr/local/lib/python3.10/dist-packages (from aiohttp->gradio) (23.1.0)\n",
            "Requirement already satisfied: charset-normalizer<4.0,>=2.0 in /usr/local/lib/python3.10/dist-packages (from aiohttp->gradio) (2.0.12)\n",
            "Requirement already satisfied: multidict<7.0,>=4.5 in /usr/local/lib/python3.10/dist-packages (from aiohttp->gradio) (6.0.4)\n",
            "Requirement already satisfied: async-timeout<5.0,>=4.0.0a3 in /usr/local/lib/python3.10/dist-packages (from aiohttp->gradio) (4.0.2)\n",
            "Requirement already satisfied: yarl<2.0,>=1.0 in /usr/local/lib/python3.10/dist-packages (from aiohttp->gradio) (1.9.2)\n",
            "Requirement already satisfied: frozenlist>=1.1.1 in /usr/local/lib/python3.10/dist-packages (from aiohttp->gradio) (1.3.3)\n",
            "Requirement already satisfied: aiosignal>=1.1.2 in /usr/local/lib/python3.10/dist-packages (from aiohttp->gradio) (1.3.1)\n",
            "Requirement already satisfied: starlette<0.28.0,>=0.27.0 in /usr/local/lib/python3.10/dist-packages (from fastapi->gradio) (0.27.0)\n",
            "Requirement already satisfied: certifi in /usr/local/lib/python3.10/dist-packages (from httpx->gradio) (2023.5.7)\n",
            "Requirement already satisfied: httpcore<0.18.0,>=0.15.0 in /usr/local/lib/python3.10/dist-packages (from httpx->gradio) (0.17.3)\n",
            "Requirement already satisfied: idna in /usr/local/lib/python3.10/dist-packages (from httpx->gradio) (3.4)\n",
            "Requirement already satisfied: sniffio in /usr/local/lib/python3.10/dist-packages (from httpx->gradio) (1.3.0)\n",
            "Requirement already satisfied: contourpy>=1.0.1 in /usr/local/lib/python3.10/dist-packages (from matplotlib->gradio) (1.1.0)\n",
            "Requirement already satisfied: cycler>=0.10 in /usr/local/lib/python3.10/dist-packages (from matplotlib->gradio) (0.11.0)\n",
            "Requirement already satisfied: fonttools>=4.22.0 in /usr/local/lib/python3.10/dist-packages (from matplotlib->gradio) (4.40.0)\n",
            "Requirement already satisfied: kiwisolver>=1.0.1 in /usr/local/lib/python3.10/dist-packages (from matplotlib->gradio) (1.4.4)\n",
            "Requirement already satisfied: pyparsing>=2.3.1 in /usr/local/lib/python3.10/dist-packages (from matplotlib->gradio) (3.1.0)\n",
            "Requirement already satisfied: urllib3<1.27,>=1.21.1 in /usr/local/lib/python3.10/dist-packages (from requests->gradio) (1.26.16)\n",
            "Requirement already satisfied: anyio<5.0,>=3.0 in /usr/local/lib/python3.10/dist-packages (from httpcore<0.18.0,>=0.15.0->httpx->gradio) (3.7.1)\n",
            "Requirement already satisfied: pyrsistent!=0.17.0,!=0.17.1,!=0.17.2,>=0.14.0 in /usr/local/lib/python3.10/dist-packages (from jsonschema>=3.0->altair>=4.2.0->gradio) (0.19.3)\n",
            "Requirement already satisfied: uc-micro-py in /usr/local/lib/python3.10/dist-packages (from linkify-it-py<3,>=1->markdown-it-py[linkify]>=2.0.0->gradio) (1.0.2)\n",
            "Requirement already satisfied: six>=1.5 in /usr/local/lib/python3.10/dist-packages (from python-dateutil>=2.8.1->pandas->gradio) (1.16.0)\n",
            "Requirement already satisfied: exceptiongroup in /usr/local/lib/python3.10/dist-packages (from anyio<5.0,>=3.0->httpcore<0.18.0,>=0.15.0->httpx->gradio) (1.1.2)\n",
            "Installing collected packages: gradio\n",
            "Successfully installed gradio-3.36.1\n"
          ]
        },
        {
          "output_type": "stream",
          "name": "stderr",
          "text": [
            "/usr/local/lib/python3.10/dist-packages/sklearn/base.py:318: UserWarning: Trying to unpickle estimator KMeans from version 1.0.2 when using version 1.2.2. This might lead to breaking code or invalid results. Use at your own risk. For more info please refer to:\n",
            "https://scikit-learn.org/stable/model_persistence.html#security-maintainability-limitations\n",
            "  warnings.warn(\n",
            "Some weights of the model checkpoint at bert-base-uncased were not used when initializing BertModel: ['cls.seq_relationship.weight', 'cls.predictions.transform.dense.bias', 'cls.predictions.transform.LayerNorm.weight', 'cls.predictions.transform.dense.weight', 'cls.seq_relationship.bias', 'cls.predictions.bias', 'cls.predictions.transform.LayerNorm.bias']\n",
            "- This IS expected if you are initializing BertModel from the checkpoint of a model trained on another task or with another architecture (e.g. initializing a BertForSequenceClassification model from a BertForPreTraining model).\n",
            "- This IS NOT expected if you are initializing BertModel from the checkpoint of a model that you expect to be exactly identical (initializing a BertForSequenceClassification model from a BertForSequenceClassification model).\n"
          ]
        },
        {
          "output_type": "stream",
          "name": "stdout",
          "text": [
            "Colab notebook detected. To show errors in colab notebook, set debug=True in launch()\n",
            "Note: opening Chrome Inspector may crash demo inside Colab notebooks.\n",
            "\n",
            "To create a public link, set `share=True` in `launch()`.\n"
          ]
        },
        {
          "output_type": "display_data",
          "data": {
            "text/plain": [
              "<IPython.core.display.Javascript object>"
            ],
            "application/javascript": [
              "(async (port, path, width, height, cache, element) => {\n",
              "                        if (!google.colab.kernel.accessAllowed && !cache) {\n",
              "                            return;\n",
              "                        }\n",
              "                        element.appendChild(document.createTextNode(''));\n",
              "                        const url = await google.colab.kernel.proxyPort(port, {cache});\n",
              "\n",
              "                        const external_link = document.createElement('div');\n",
              "                        external_link.innerHTML = `\n",
              "                            <div style=\"font-family: monospace; margin-bottom: 0.5rem\">\n",
              "                                Running on <a href=${new URL(path, url).toString()} target=\"_blank\">\n",
              "                                    https://localhost:${port}${path}\n",
              "                                </a>\n",
              "                            </div>\n",
              "                        `;\n",
              "                        element.appendChild(external_link);\n",
              "\n",
              "                        const iframe = document.createElement('iframe');\n",
              "                        iframe.src = new URL(path, url).toString();\n",
              "                        iframe.height = height;\n",
              "                        iframe.allow = \"autoplay; camera; microphone; clipboard-read; clipboard-write;\"\n",
              "                        iframe.width = width;\n",
              "                        iframe.style.border = 0;\n",
              "                        element.appendChild(iframe);\n",
              "                    })(7861, \"/\", \"100%\", 500, false, window.element)"
            ]
          },
          "metadata": {}
        },
        {
          "output_type": "execute_result",
          "data": {
            "text/plain": []
          },
          "metadata": {},
          "execution_count": 8
        }
      ]
    },
    {
      "cell_type": "code",
      "source": [],
      "metadata": {
        "id": "8_cOHIRrDF1R"
      },
      "execution_count": null,
      "outputs": []
    },
    {
      "cell_type": "code",
      "source": [],
      "metadata": {
        "id": "iJfVBgXONDns"
      },
      "execution_count": null,
      "outputs": []
    }
  ]
}